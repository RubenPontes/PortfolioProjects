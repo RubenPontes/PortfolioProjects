{
 "cells": [
  {
   "cell_type": "code",
   "execution_count": 82,
   "id": "5b244e00",
   "metadata": {},
   "outputs": [],
   "source": [
    "import pandas as pd\n",
    "import numpy as np\n",
    "\n",
    "# Read data\n",
    "AppUser = pd.read_csv(r\"C:\\Users\\ASUS\\Desktop\\strike\\jupyter\\AppUser.csv\")\n",
    "AppUserTxn = pd.read_csv(r\"C:\\Users\\ASUS\\Desktop\\strike\\jupyter\\AppUserTxn.csv\")\n",
    "KycInfo = pd.read_csv(r\"C:\\Users\\ASUS\\Desktop\\strike\\jupyter\\KycInfo.csv\")\n",
    "KycProfile = pd.read_csv(r\"C:\\Users\\ASUS\\Desktop\\strike\\jupyter\\KycProfile.csv\")"
   ]
  },
  {
   "cell_type": "code",
   "execution_count": 83,
   "id": "33659690",
   "metadata": {},
   "outputs": [],
   "source": [
    "# DATA CLEANING"
   ]
  },
  {
   "cell_type": "code",
   "execution_count": 84,
   "id": "df46faed",
   "metadata": {},
   "outputs": [
    {
     "data": {
      "text/html": [
       "<div>\n",
       "<style scoped>\n",
       "    .dataframe tbody tr th:only-of-type {\n",
       "        vertical-align: middle;\n",
       "    }\n",
       "\n",
       "    .dataframe tbody tr th {\n",
       "        vertical-align: top;\n",
       "    }\n",
       "\n",
       "    .dataframe thead th {\n",
       "        text-align: right;\n",
       "    }\n",
       "</style>\n",
       "<table border=\"1\" class=\"dataframe\">\n",
       "  <thead>\n",
       "    <tr style=\"text-align: right;\">\n",
       "      <th></th>\n",
       "      <th>Guid</th>\n",
       "      <th>Created</th>\n",
       "      <th>UserState</th>\n",
       "      <th>Restriction</th>\n",
       "      <th>DefaultCurrency</th>\n",
       "      <th>DefaultLanguage</th>\n",
       "    </tr>\n",
       "  </thead>\n",
       "  <tbody>\n",
       "    <tr>\n",
       "      <th>0</th>\n",
       "      <td>59532fd4-21e2-49b3-88a1-45dfbc7ce03c</td>\n",
       "      <td>2021-11-29</td>\n",
       "      <td>2</td>\n",
       "      <td>3</td>\n",
       "      <td>USD</td>\n",
       "      <td>en</td>\n",
       "    </tr>\n",
       "    <tr>\n",
       "      <th>1</th>\n",
       "      <td>67826560-77be-4e52-8360-699c603c9028</td>\n",
       "      <td>2021-12-28</td>\n",
       "      <td>6</td>\n",
       "      <td>0</td>\n",
       "      <td>USD</td>\n",
       "      <td>en</td>\n",
       "    </tr>\n",
       "    <tr>\n",
       "      <th>2</th>\n",
       "      <td>045cc08b-55a5-4e69-be0c-cc6de11beeb7</td>\n",
       "      <td>2022-01-26</td>\n",
       "      <td>2</td>\n",
       "      <td>0</td>\n",
       "      <td>USDT</td>\n",
       "      <td>es</td>\n",
       "    </tr>\n",
       "    <tr>\n",
       "      <th>3</th>\n",
       "      <td>ddf2d9b3-f4b5-404e-8f02-451402ec110c</td>\n",
       "      <td>2022-02-20</td>\n",
       "      <td>2</td>\n",
       "      <td>4</td>\n",
       "      <td>USD</td>\n",
       "      <td>en</td>\n",
       "    </tr>\n",
       "    <tr>\n",
       "      <th>4</th>\n",
       "      <td>22a0a2eb-9ae9-480c-b564-4e99e5e0b503</td>\n",
       "      <td>2022-01-17</td>\n",
       "      <td>2</td>\n",
       "      <td>0</td>\n",
       "      <td>USD</td>\n",
       "      <td>en</td>\n",
       "    </tr>\n",
       "  </tbody>\n",
       "</table>\n",
       "</div>"
      ],
      "text/plain": [
       "                                   Guid     Created  UserState  Restriction  \\\n",
       "0  59532fd4-21e2-49b3-88a1-45dfbc7ce03c  2021-11-29          2            3   \n",
       "1  67826560-77be-4e52-8360-699c603c9028  2021-12-28          6            0   \n",
       "2  045cc08b-55a5-4e69-be0c-cc6de11beeb7  2022-01-26          2            0   \n",
       "3  ddf2d9b3-f4b5-404e-8f02-451402ec110c  2022-02-20          2            4   \n",
       "4  22a0a2eb-9ae9-480c-b564-4e99e5e0b503  2022-01-17          2            0   \n",
       "\n",
       "  DefaultCurrency DefaultLanguage  \n",
       "0             USD              en  \n",
       "1             USD              en  \n",
       "2            USDT              es  \n",
       "3             USD              en  \n",
       "4             USD              en  "
      ]
     },
     "execution_count": 84,
     "metadata": {},
     "output_type": "execute_result"
    }
   ],
   "source": [
    "#AppUser Table\n",
    "AppUser.head()"
   ]
  },
  {
   "cell_type": "code",
   "execution_count": 85,
   "id": "faa8e3f4",
   "metadata": {},
   "outputs": [
    {
     "data": {
      "text/plain": [
       "Guid               object\n",
       "Created            object\n",
       "UserState           int64\n",
       "Restriction         int64\n",
       "DefaultCurrency    object\n",
       "DefaultLanguage    object\n",
       "dtype: object"
      ]
     },
     "execution_count": 85,
     "metadata": {},
     "output_type": "execute_result"
    }
   ],
   "source": [
    "# check columns data type\n",
    "AppUser.dtypes"
   ]
  },
  {
   "cell_type": "code",
   "execution_count": 86,
   "id": "aca405ce",
   "metadata": {},
   "outputs": [
    {
     "data": {
      "text/plain": [
       "Guid                 0\n",
       "Created              0\n",
       "UserState            0\n",
       "Restriction          0\n",
       "DefaultCurrency    230\n",
       "DefaultLanguage      0\n",
       "dtype: int64"
      ]
     },
     "execution_count": 86,
     "metadata": {},
     "output_type": "execute_result"
    }
   ],
   "source": [
    "# check how many null values for each column\n",
    "AppUser.isnull().sum()"
   ]
  },
  {
   "cell_type": "code",
   "execution_count": 87,
   "id": "d83bbb83",
   "metadata": {},
   "outputs": [
    {
     "data": {
      "text/plain": [
       "array(['USD', 'USDT', nan], dtype=object)"
      ]
     },
     "execution_count": 87,
     "metadata": {},
     "output_type": "execute_result"
    }
   ],
   "source": [
    "# check all the unique values in the \"DefaultCurrency\" column\n",
    "AppUser[\"DefaultCurrency\"].unique()"
   ]
  },
  {
   "cell_type": "code",
   "execution_count": 88,
   "id": "fff88ba1",
   "metadata": {},
   "outputs": [
    {
     "data": {
      "text/plain": [
       "Guid               0\n",
       "Created            0\n",
       "UserState          0\n",
       "Restriction        0\n",
       "DefaultCurrency    0\n",
       "DefaultLanguage    0\n",
       "dtype: int64"
      ]
     },
     "execution_count": 88,
     "metadata": {},
     "output_type": "execute_result"
    }
   ],
   "source": [
    "# Substitue null values with '-1'\n",
    "AppUser[\"DefaultCurrency\"].fillna('-1', inplace = True)\n",
    "\n",
    "# check null values\n",
    "AppUser.isnull().sum()"
   ]
  },
  {
   "cell_type": "code",
   "execution_count": 89,
   "id": "e4026034",
   "metadata": {},
   "outputs": [
    {
     "data": {
      "text/plain": [
       "True"
      ]
     },
     "execution_count": 89,
     "metadata": {},
     "output_type": "execute_result"
    }
   ],
   "source": [
    "# check if there are repeated values in \"Guid\" column (outpu: True == 'no duplicates')\n",
    "\n",
    "AppUser[\"Guid\"].is_unique"
   ]
  },
  {
   "cell_type": "code",
   "execution_count": 94,
   "id": "2acab146",
   "metadata": {},
   "outputs": [],
   "source": [
    "# replace 'en' = 'EN', 'es' = 'ES'\n",
    "AppUser[\"DefaultLanguage\"].replace({'en':'EN', 'es':'ES'}, inplace = True)"
   ]
  },
  {
   "cell_type": "code",
   "execution_count": 203,
   "id": "aacf81a8",
   "metadata": {},
   "outputs": [
    {
     "data": {
      "text/html": [
       "<div>\n",
       "<style scoped>\n",
       "    .dataframe tbody tr th:only-of-type {\n",
       "        vertical-align: middle;\n",
       "    }\n",
       "\n",
       "    .dataframe tbody tr th {\n",
       "        vertical-align: top;\n",
       "    }\n",
       "\n",
       "    .dataframe thead th {\n",
       "        text-align: right;\n",
       "    }\n",
       "</style>\n",
       "<table border=\"1\" class=\"dataframe\">\n",
       "  <thead>\n",
       "    <tr style=\"text-align: right;\">\n",
       "      <th></th>\n",
       "      <th>Guid</th>\n",
       "      <th>Created</th>\n",
       "      <th>UserState</th>\n",
       "      <th>Restriction</th>\n",
       "      <th>DefaultCurrency</th>\n",
       "      <th>DefaultLanguage</th>\n",
       "    </tr>\n",
       "  </thead>\n",
       "  <tbody>\n",
       "    <tr>\n",
       "      <th>4593</th>\n",
       "      <td>e0613735-467a-4cb3-b10f-b3653c9c4d52</td>\n",
       "      <td>2020-02-04</td>\n",
       "      <td>6</td>\n",
       "      <td>0</td>\n",
       "      <td>USD</td>\n",
       "      <td>EN</td>\n",
       "    </tr>\n",
       "    <tr>\n",
       "      <th>1867</th>\n",
       "      <td>17a84363-4f40-4362-976d-3086db50e939</td>\n",
       "      <td>2020-02-19</td>\n",
       "      <td>6</td>\n",
       "      <td>0</td>\n",
       "      <td>USD</td>\n",
       "      <td>EN</td>\n",
       "    </tr>\n",
       "    <tr>\n",
       "      <th>3811</th>\n",
       "      <td>1d3035e8-4dc0-44f6-9603-ffc93332fb01</td>\n",
       "      <td>2020-06-04</td>\n",
       "      <td>2</td>\n",
       "      <td>0</td>\n",
       "      <td>-1</td>\n",
       "      <td>EN</td>\n",
       "    </tr>\n",
       "    <tr>\n",
       "      <th>1425</th>\n",
       "      <td>2fb277a6-ad97-4b44-81a6-f9771c40fdc3</td>\n",
       "      <td>2020-07-02</td>\n",
       "      <td>6</td>\n",
       "      <td>0</td>\n",
       "      <td>USD</td>\n",
       "      <td>EN</td>\n",
       "    </tr>\n",
       "    <tr>\n",
       "      <th>2335</th>\n",
       "      <td>967e178c-9507-47e8-8d2e-ec060dfced6e</td>\n",
       "      <td>2020-07-02</td>\n",
       "      <td>2</td>\n",
       "      <td>0</td>\n",
       "      <td>USD</td>\n",
       "      <td>EN</td>\n",
       "    </tr>\n",
       "  </tbody>\n",
       "</table>\n",
       "</div>"
      ],
      "text/plain": [
       "                                      Guid     Created  UserState  \\\n",
       "4593  e0613735-467a-4cb3-b10f-b3653c9c4d52  2020-02-04          6   \n",
       "1867  17a84363-4f40-4362-976d-3086db50e939  2020-02-19          6   \n",
       "3811  1d3035e8-4dc0-44f6-9603-ffc93332fb01  2020-06-04          2   \n",
       "1425  2fb277a6-ad97-4b44-81a6-f9771c40fdc3  2020-07-02          6   \n",
       "2335  967e178c-9507-47e8-8d2e-ec060dfced6e  2020-07-02          2   \n",
       "\n",
       "      Restriction DefaultCurrency DefaultLanguage  \n",
       "4593            0             USD              EN  \n",
       "1867            0             USD              EN  \n",
       "3811            0              -1              EN  \n",
       "1425            0             USD              EN  \n",
       "2335            0             USD              EN  "
      ]
     },
     "execution_count": 203,
     "metadata": {},
     "output_type": "execute_result"
    }
   ],
   "source": [
    "# sort by \"Created\"\n",
    "AppUser = AppUser.sort_values(by=\"Created\")\n",
    "AppUser.head()"
   ]
  },
  {
   "cell_type": "code",
   "execution_count": null,
   "id": "de7692ab",
   "metadata": {},
   "outputs": [],
   "source": []
  },
  {
   "cell_type": "code",
   "execution_count": 167,
   "id": "4958245a",
   "metadata": {},
   "outputs": [
    {
     "data": {
      "text/html": [
       "<div>\n",
       "<style scoped>\n",
       "    .dataframe tbody tr th:only-of-type {\n",
       "        vertical-align: middle;\n",
       "    }\n",
       "\n",
       "    .dataframe tbody tr th {\n",
       "        vertical-align: top;\n",
       "    }\n",
       "\n",
       "    .dataframe thead th {\n",
       "        text-align: right;\n",
       "    }\n",
       "</style>\n",
       "<table border=\"1\" class=\"dataframe\">\n",
       "  <thead>\n",
       "    <tr style=\"text-align: right;\">\n",
       "      <th></th>\n",
       "      <th>Guid</th>\n",
       "      <th>AppUserId</th>\n",
       "      <th>State</th>\n",
       "      <th>Created</th>\n",
       "      <th>Posted</th>\n",
       "      <th>Completed</th>\n",
       "      <th>Claim</th>\n",
       "      <th>Source</th>\n",
       "    </tr>\n",
       "  </thead>\n",
       "  <tbody>\n",
       "    <tr>\n",
       "      <th>0</th>\n",
       "      <td>81094b46-cdf1-4109-a70c-9133555a3f89</td>\n",
       "      <td>dc989253-5d51-4fa9-8d5e-61659897fb74</td>\n",
       "      <td>3</td>\n",
       "      <td>2021-07-02</td>\n",
       "      <td>2021-07-02</td>\n",
       "      <td>2021-07-12</td>\n",
       "      <td>1</td>\n",
       "      <td>2</td>\n",
       "    </tr>\n",
       "    <tr>\n",
       "      <th>1</th>\n",
       "      <td>169b0889-e385-4836-8a16-373678ec006f</td>\n",
       "      <td>dc989253-5d51-4fa9-8d5e-61659897fb74</td>\n",
       "      <td>3</td>\n",
       "      <td>2021-07-03</td>\n",
       "      <td>2021-07-03</td>\n",
       "      <td>2021-07-07</td>\n",
       "      <td>2</td>\n",
       "      <td>2</td>\n",
       "    </tr>\n",
       "    <tr>\n",
       "      <th>2</th>\n",
       "      <td>7c1a3918-5379-4f19-a9e1-2ef171b00166</td>\n",
       "      <td>487981e7-4964-4c11-86d8-a1647e2c1a9e</td>\n",
       "      <td>3</td>\n",
       "      <td>2021-04-28</td>\n",
       "      <td>2021-04-28</td>\n",
       "      <td>2021-04-28</td>\n",
       "      <td>1</td>\n",
       "      <td>4</td>\n",
       "    </tr>\n",
       "    <tr>\n",
       "      <th>3</th>\n",
       "      <td>04efb1d7-f50e-4afe-97e9-07e3ac272678</td>\n",
       "      <td>487981e7-4964-4c11-86d8-a1647e2c1a9e</td>\n",
       "      <td>3</td>\n",
       "      <td>2021-04-28</td>\n",
       "      <td>NaN</td>\n",
       "      <td>2021-04-28</td>\n",
       "      <td>2</td>\n",
       "      <td>1</td>\n",
       "    </tr>\n",
       "    <tr>\n",
       "      <th>4</th>\n",
       "      <td>4d983283-108d-4516-8d13-84f727fce684</td>\n",
       "      <td>487981e7-4964-4c11-86d8-a1647e2c1a9e</td>\n",
       "      <td>3</td>\n",
       "      <td>2021-04-29</td>\n",
       "      <td>NaN</td>\n",
       "      <td>2021-04-29</td>\n",
       "      <td>1</td>\n",
       "      <td>1</td>\n",
       "    </tr>\n",
       "  </tbody>\n",
       "</table>\n",
       "</div>"
      ],
      "text/plain": [
       "                                   Guid                             AppUserId  \\\n",
       "0  81094b46-cdf1-4109-a70c-9133555a3f89  dc989253-5d51-4fa9-8d5e-61659897fb74   \n",
       "1  169b0889-e385-4836-8a16-373678ec006f  dc989253-5d51-4fa9-8d5e-61659897fb74   \n",
       "2  7c1a3918-5379-4f19-a9e1-2ef171b00166  487981e7-4964-4c11-86d8-a1647e2c1a9e   \n",
       "3  04efb1d7-f50e-4afe-97e9-07e3ac272678  487981e7-4964-4c11-86d8-a1647e2c1a9e   \n",
       "4  4d983283-108d-4516-8d13-84f727fce684  487981e7-4964-4c11-86d8-a1647e2c1a9e   \n",
       "\n",
       "   State     Created      Posted   Completed  Claim  Source  \n",
       "0      3  2021-07-02  2021-07-02  2021-07-12      1       2  \n",
       "1      3  2021-07-03  2021-07-03  2021-07-07      2       2  \n",
       "2      3  2021-04-28  2021-04-28  2021-04-28      1       4  \n",
       "3      3  2021-04-28         NaN  2021-04-28      2       1  \n",
       "4      3  2021-04-29         NaN  2021-04-29      1       1  "
      ]
     },
     "execution_count": 167,
     "metadata": {},
     "output_type": "execute_result"
    }
   ],
   "source": [
    "#AppUserTxn\n",
    "AppUserTxn.head()"
   ]
  },
  {
   "cell_type": "code",
   "execution_count": 168,
   "id": "0c452990",
   "metadata": {},
   "outputs": [
    {
     "data": {
      "text/plain": [
       "Guid         object\n",
       "AppUserId    object\n",
       "State         int64\n",
       "Created      object\n",
       "Posted       object\n",
       "Completed    object\n",
       "Claim         int64\n",
       "Source        int64\n",
       "dtype: object"
      ]
     },
     "execution_count": 168,
     "metadata": {},
     "output_type": "execute_result"
    }
   ],
   "source": [
    "# check columns data type\n",
    "AppUserTxn.dtypes"
   ]
  },
  {
   "cell_type": "code",
   "execution_count": 169,
   "id": "10b0a252",
   "metadata": {},
   "outputs": [
    {
     "data": {
      "text/plain": [
       "Guid             0\n",
       "AppUserId        0\n",
       "State            0\n",
       "Created          0\n",
       "Posted       44099\n",
       "Completed    43449\n",
       "Claim            0\n",
       "Source           0\n",
       "dtype: int64"
      ]
     },
     "execution_count": 169,
     "metadata": {},
     "output_type": "execute_result"
    }
   ],
   "source": [
    "# check how many null values for each column\n",
    "AppUserTxn.isnull().sum()"
   ]
  },
  {
   "cell_type": "code",
   "execution_count": 170,
   "id": "799cba61",
   "metadata": {},
   "outputs": [
    {
     "data": {
      "text/plain": [
       "Guid         0\n",
       "AppUserId    0\n",
       "State        0\n",
       "Created      0\n",
       "Posted       0\n",
       "Completed    0\n",
       "Claim        0\n",
       "Source       0\n",
       "dtype: int64"
      ]
     },
     "execution_count": 170,
     "metadata": {},
     "output_type": "execute_result"
    }
   ],
   "source": [
    "# \"Posted\" and \"Completed\" columns are dates\n",
    "# substitute null values with '-1'\n",
    "AppUserTxn[\"Posted\"].fillna('-1', inplace = True)\n",
    "AppUserTxn[\"Completed\"].fillna('-1', inplace = True)\n",
    "# check null values\n",
    "AppUserTxn.isnull().sum()"
   ]
  },
  {
   "cell_type": "code",
   "execution_count": 171,
   "id": "bf631447",
   "metadata": {},
   "outputs": [
    {
     "data": {
      "text/plain": [
       "False"
      ]
     },
     "execution_count": 171,
     "metadata": {},
     "output_type": "execute_result"
    }
   ],
   "source": [
    "# check if there are repeated values in \"Guid\" column (outpu: False == 'there are duplicates')\n",
    "\n",
    "AppUserTxn[\"Guid\"].is_unique"
   ]
  },
  {
   "cell_type": "code",
   "execution_count": 172,
   "id": "d8511da7",
   "metadata": {},
   "outputs": [
    {
     "data": {
      "text/html": [
       "<div>\n",
       "<style scoped>\n",
       "    .dataframe tbody tr th:only-of-type {\n",
       "        vertical-align: middle;\n",
       "    }\n",
       "\n",
       "    .dataframe tbody tr th {\n",
       "        vertical-align: top;\n",
       "    }\n",
       "\n",
       "    .dataframe thead th {\n",
       "        text-align: right;\n",
       "    }\n",
       "</style>\n",
       "<table border=\"1\" class=\"dataframe\">\n",
       "  <thead>\n",
       "    <tr style=\"text-align: right;\">\n",
       "      <th></th>\n",
       "      <th>Guid</th>\n",
       "      <th>AppUserId</th>\n",
       "      <th>State</th>\n",
       "      <th>Created</th>\n",
       "      <th>Posted</th>\n",
       "      <th>Completed</th>\n",
       "      <th>Claim</th>\n",
       "      <th>Source</th>\n",
       "    </tr>\n",
       "  </thead>\n",
       "  <tbody>\n",
       "    <tr>\n",
       "      <th>0</th>\n",
       "      <td>81094b46-cdf1-4109-a70c-9133555a3f89</td>\n",
       "      <td>dc989253-5d51-4fa9-8d5e-61659897fb74</td>\n",
       "      <td>3</td>\n",
       "      <td>2021-07-02</td>\n",
       "      <td>2021-07-02</td>\n",
       "      <td>2021-07-12</td>\n",
       "      <td>1</td>\n",
       "      <td>2</td>\n",
       "    </tr>\n",
       "    <tr>\n",
       "      <th>1</th>\n",
       "      <td>169b0889-e385-4836-8a16-373678ec006f</td>\n",
       "      <td>dc989253-5d51-4fa9-8d5e-61659897fb74</td>\n",
       "      <td>3</td>\n",
       "      <td>2021-07-03</td>\n",
       "      <td>2021-07-03</td>\n",
       "      <td>2021-07-07</td>\n",
       "      <td>2</td>\n",
       "      <td>2</td>\n",
       "    </tr>\n",
       "    <tr>\n",
       "      <th>2</th>\n",
       "      <td>7c1a3918-5379-4f19-a9e1-2ef171b00166</td>\n",
       "      <td>487981e7-4964-4c11-86d8-a1647e2c1a9e</td>\n",
       "      <td>3</td>\n",
       "      <td>2021-04-28</td>\n",
       "      <td>2021-04-28</td>\n",
       "      <td>2021-04-28</td>\n",
       "      <td>1</td>\n",
       "      <td>4</td>\n",
       "    </tr>\n",
       "    <tr>\n",
       "      <th>3</th>\n",
       "      <td>04efb1d7-f50e-4afe-97e9-07e3ac272678</td>\n",
       "      <td>487981e7-4964-4c11-86d8-a1647e2c1a9e</td>\n",
       "      <td>3</td>\n",
       "      <td>2021-04-28</td>\n",
       "      <td>-1</td>\n",
       "      <td>2021-04-28</td>\n",
       "      <td>2</td>\n",
       "      <td>1</td>\n",
       "    </tr>\n",
       "    <tr>\n",
       "      <th>4</th>\n",
       "      <td>4d983283-108d-4516-8d13-84f727fce684</td>\n",
       "      <td>487981e7-4964-4c11-86d8-a1647e2c1a9e</td>\n",
       "      <td>3</td>\n",
       "      <td>2021-04-29</td>\n",
       "      <td>-1</td>\n",
       "      <td>2021-04-29</td>\n",
       "      <td>1</td>\n",
       "      <td>1</td>\n",
       "    </tr>\n",
       "    <tr>\n",
       "      <th>...</th>\n",
       "      <td>...</td>\n",
       "      <td>...</td>\n",
       "      <td>...</td>\n",
       "      <td>...</td>\n",
       "      <td>...</td>\n",
       "      <td>...</td>\n",
       "      <td>...</td>\n",
       "      <td>...</td>\n",
       "    </tr>\n",
       "    <tr>\n",
       "      <th>93224</th>\n",
       "      <td>3ff4c1ea-703b-4706-816f-0efefceb6739</td>\n",
       "      <td>5ac848ae-de90-4435-a114-73851f0cdad3</td>\n",
       "      <td>3</td>\n",
       "      <td>2021-07-02</td>\n",
       "      <td>2021-07-02</td>\n",
       "      <td>2021-07-02</td>\n",
       "      <td>1</td>\n",
       "      <td>4</td>\n",
       "    </tr>\n",
       "    <tr>\n",
       "      <th>93225</th>\n",
       "      <td>0ccb3856-c45f-49c3-9cd4-c21d528a565b</td>\n",
       "      <td>5ac848ae-de90-4435-a114-73851f0cdad3</td>\n",
       "      <td>3</td>\n",
       "      <td>2021-07-02</td>\n",
       "      <td>2021-07-02</td>\n",
       "      <td>2021-07-02</td>\n",
       "      <td>1</td>\n",
       "      <td>4</td>\n",
       "    </tr>\n",
       "    <tr>\n",
       "      <th>93226</th>\n",
       "      <td>62572727-562f-44e2-b9ac-4b38ef3a1e55</td>\n",
       "      <td>859d115f-c0fa-454f-ab00-f1cfc9a064ed</td>\n",
       "      <td>3</td>\n",
       "      <td>2022-01-27</td>\n",
       "      <td>2022-01-27</td>\n",
       "      <td>2022-01-27</td>\n",
       "      <td>1</td>\n",
       "      <td>4</td>\n",
       "    </tr>\n",
       "    <tr>\n",
       "      <th>93227</th>\n",
       "      <td>17a51f07-9ec9-44ef-90cf-b2828fdfdc5a</td>\n",
       "      <td>4ad2ff8a-177d-4382-ac2c-5f039e3dbc86</td>\n",
       "      <td>3</td>\n",
       "      <td>2022-01-15</td>\n",
       "      <td>-1</td>\n",
       "      <td>2022-01-15</td>\n",
       "      <td>2</td>\n",
       "      <td>1</td>\n",
       "    </tr>\n",
       "    <tr>\n",
       "      <th>93228</th>\n",
       "      <td>fa3709ed-e2f8-4768-8cd2-940f87552367</td>\n",
       "      <td>4ad2ff8a-177d-4382-ac2c-5f039e3dbc86</td>\n",
       "      <td>3</td>\n",
       "      <td>2022-01-15</td>\n",
       "      <td>2022-01-15</td>\n",
       "      <td>2022-01-15</td>\n",
       "      <td>1</td>\n",
       "      <td>4</td>\n",
       "    </tr>\n",
       "  </tbody>\n",
       "</table>\n",
       "<p>93144 rows × 8 columns</p>\n",
       "</div>"
      ],
      "text/plain": [
       "                                       Guid  \\\n",
       "0      81094b46-cdf1-4109-a70c-9133555a3f89   \n",
       "1      169b0889-e385-4836-8a16-373678ec006f   \n",
       "2      7c1a3918-5379-4f19-a9e1-2ef171b00166   \n",
       "3      04efb1d7-f50e-4afe-97e9-07e3ac272678   \n",
       "4      4d983283-108d-4516-8d13-84f727fce684   \n",
       "...                                     ...   \n",
       "93224  3ff4c1ea-703b-4706-816f-0efefceb6739   \n",
       "93225  0ccb3856-c45f-49c3-9cd4-c21d528a565b   \n",
       "93226  62572727-562f-44e2-b9ac-4b38ef3a1e55   \n",
       "93227  17a51f07-9ec9-44ef-90cf-b2828fdfdc5a   \n",
       "93228  fa3709ed-e2f8-4768-8cd2-940f87552367   \n",
       "\n",
       "                                  AppUserId  State     Created      Posted  \\\n",
       "0      dc989253-5d51-4fa9-8d5e-61659897fb74      3  2021-07-02  2021-07-02   \n",
       "1      dc989253-5d51-4fa9-8d5e-61659897fb74      3  2021-07-03  2021-07-03   \n",
       "2      487981e7-4964-4c11-86d8-a1647e2c1a9e      3  2021-04-28  2021-04-28   \n",
       "3      487981e7-4964-4c11-86d8-a1647e2c1a9e      3  2021-04-28          -1   \n",
       "4      487981e7-4964-4c11-86d8-a1647e2c1a9e      3  2021-04-29          -1   \n",
       "...                                     ...    ...         ...         ...   \n",
       "93224  5ac848ae-de90-4435-a114-73851f0cdad3      3  2021-07-02  2021-07-02   \n",
       "93225  5ac848ae-de90-4435-a114-73851f0cdad3      3  2021-07-02  2021-07-02   \n",
       "93226  859d115f-c0fa-454f-ab00-f1cfc9a064ed      3  2022-01-27  2022-01-27   \n",
       "93227  4ad2ff8a-177d-4382-ac2c-5f039e3dbc86      3  2022-01-15          -1   \n",
       "93228  4ad2ff8a-177d-4382-ac2c-5f039e3dbc86      3  2022-01-15  2022-01-15   \n",
       "\n",
       "        Completed  Claim  Source  \n",
       "0      2021-07-12      1       2  \n",
       "1      2021-07-07      2       2  \n",
       "2      2021-04-28      1       4  \n",
       "3      2021-04-28      2       1  \n",
       "4      2021-04-29      1       1  \n",
       "...           ...    ...     ...  \n",
       "93224  2021-07-02      1       4  \n",
       "93225  2021-07-02      1       4  \n",
       "93226  2022-01-27      1       4  \n",
       "93227  2022-01-15      2       1  \n",
       "93228  2022-01-15      1       4  \n",
       "\n",
       "[93144 rows x 8 columns]"
      ]
     },
     "execution_count": 172,
     "metadata": {},
     "output_type": "execute_result"
    }
   ],
   "source": [
    "# Drop duplicate Guid's\n",
    "\n",
    "AppUserTxn = AppUserTxn.drop_duplicates(['Guid'], keep = 'first')\n",
    "AppUserTxn"
   ]
  },
  {
   "cell_type": "code",
   "execution_count": 173,
   "id": "4abd8c67",
   "metadata": {},
   "outputs": [
    {
     "data": {
      "text/plain": [
       "True"
      ]
     },
     "execution_count": 173,
     "metadata": {},
     "output_type": "execute_result"
    }
   ],
   "source": [
    "# check duplicates again\n",
    "\n",
    "AppUserTxn[\"Guid\"].is_unique"
   ]
  },
  {
   "cell_type": "code",
   "execution_count": 178,
   "id": "e204026d",
   "metadata": {},
   "outputs": [
    {
     "data": {
      "text/html": [
       "<div>\n",
       "<style scoped>\n",
       "    .dataframe tbody tr th:only-of-type {\n",
       "        vertical-align: middle;\n",
       "    }\n",
       "\n",
       "    .dataframe tbody tr th {\n",
       "        vertical-align: top;\n",
       "    }\n",
       "\n",
       "    .dataframe thead th {\n",
       "        text-align: right;\n",
       "    }\n",
       "</style>\n",
       "<table border=\"1\" class=\"dataframe\">\n",
       "  <thead>\n",
       "    <tr style=\"text-align: right;\">\n",
       "      <th></th>\n",
       "      <th>Guid</th>\n",
       "      <th>AppUserId</th>\n",
       "      <th>State</th>\n",
       "      <th>Created</th>\n",
       "      <th>Posted</th>\n",
       "      <th>Completed</th>\n",
       "      <th>Claim</th>\n",
       "      <th>Source</th>\n",
       "    </tr>\n",
       "  </thead>\n",
       "  <tbody>\n",
       "    <tr>\n",
       "      <th>45431</th>\n",
       "      <td>6211e9f6-3a90-4763-9ad6-70171fc992ce</td>\n",
       "      <td>e0613735-467a-4cb3-b10f-b3653c9c4d52</td>\n",
       "      <td>3</td>\n",
       "      <td>2020-02-04</td>\n",
       "      <td>2020-02-04</td>\n",
       "      <td>2020-02-04</td>\n",
       "      <td>2</td>\n",
       "      <td>1</td>\n",
       "    </tr>\n",
       "    <tr>\n",
       "      <th>45451</th>\n",
       "      <td>a379f7e8-4284-4e82-8bbf-675c2701d844</td>\n",
       "      <td>e0613735-467a-4cb3-b10f-b3653c9c4d52</td>\n",
       "      <td>3</td>\n",
       "      <td>2020-02-04</td>\n",
       "      <td>2020-02-04</td>\n",
       "      <td>2020-02-04</td>\n",
       "      <td>2</td>\n",
       "      <td>1</td>\n",
       "    </tr>\n",
       "    <tr>\n",
       "      <th>45475</th>\n",
       "      <td>e173d710-c4e9-4995-9ef4-a3c4ae57b3b4</td>\n",
       "      <td>e0613735-467a-4cb3-b10f-b3653c9c4d52</td>\n",
       "      <td>3</td>\n",
       "      <td>2020-02-04</td>\n",
       "      <td>2020-02-04</td>\n",
       "      <td>2020-02-04</td>\n",
       "      <td>2</td>\n",
       "      <td>1</td>\n",
       "    </tr>\n",
       "    <tr>\n",
       "      <th>45500</th>\n",
       "      <td>9a8c5e5a-a054-4e81-83e4-4e557eb00c44</td>\n",
       "      <td>e0613735-467a-4cb3-b10f-b3653c9c4d52</td>\n",
       "      <td>3</td>\n",
       "      <td>2020-02-04</td>\n",
       "      <td>2020-02-06</td>\n",
       "      <td>2020-02-04</td>\n",
       "      <td>1</td>\n",
       "      <td>2</td>\n",
       "    </tr>\n",
       "    <tr>\n",
       "      <th>45499</th>\n",
       "      <td>db7cacb9-f82f-412d-ae2c-d6fec8ddd0b5</td>\n",
       "      <td>e0613735-467a-4cb3-b10f-b3653c9c4d52</td>\n",
       "      <td>3</td>\n",
       "      <td>2020-02-04</td>\n",
       "      <td>2020-02-05</td>\n",
       "      <td>2020-02-06</td>\n",
       "      <td>1</td>\n",
       "      <td>2</td>\n",
       "    </tr>\n",
       "  </tbody>\n",
       "</table>\n",
       "</div>"
      ],
      "text/plain": [
       "                                       Guid  \\\n",
       "45431  6211e9f6-3a90-4763-9ad6-70171fc992ce   \n",
       "45451  a379f7e8-4284-4e82-8bbf-675c2701d844   \n",
       "45475  e173d710-c4e9-4995-9ef4-a3c4ae57b3b4   \n",
       "45500  9a8c5e5a-a054-4e81-83e4-4e557eb00c44   \n",
       "45499  db7cacb9-f82f-412d-ae2c-d6fec8ddd0b5   \n",
       "\n",
       "                                  AppUserId  State     Created      Posted  \\\n",
       "45431  e0613735-467a-4cb3-b10f-b3653c9c4d52      3  2020-02-04  2020-02-04   \n",
       "45451  e0613735-467a-4cb3-b10f-b3653c9c4d52      3  2020-02-04  2020-02-04   \n",
       "45475  e0613735-467a-4cb3-b10f-b3653c9c4d52      3  2020-02-04  2020-02-04   \n",
       "45500  e0613735-467a-4cb3-b10f-b3653c9c4d52      3  2020-02-04  2020-02-06   \n",
       "45499  e0613735-467a-4cb3-b10f-b3653c9c4d52      3  2020-02-04  2020-02-05   \n",
       "\n",
       "        Completed  Claim  Source  \n",
       "45431  2020-02-04      2       1  \n",
       "45451  2020-02-04      2       1  \n",
       "45475  2020-02-04      2       1  \n",
       "45500  2020-02-04      1       2  \n",
       "45499  2020-02-06      1       2  "
      ]
     },
     "execution_count": 178,
     "metadata": {},
     "output_type": "execute_result"
    }
   ],
   "source": [
    "# sort by \"Created\"\n",
    "AppUserTxn = AppUserTxn.sort_values(by=\"Created\")\n",
    "AppUserTxn.head()"
   ]
  },
  {
   "cell_type": "code",
   "execution_count": null,
   "id": "f693ed8f",
   "metadata": {},
   "outputs": [],
   "source": []
  },
  {
   "cell_type": "code",
   "execution_count": 180,
   "id": "582671a2",
   "metadata": {},
   "outputs": [
    {
     "data": {
      "text/html": [
       "<div>\n",
       "<style scoped>\n",
       "    .dataframe tbody tr th:only-of-type {\n",
       "        vertical-align: middle;\n",
       "    }\n",
       "\n",
       "    .dataframe tbody tr th {\n",
       "        vertical-align: top;\n",
       "    }\n",
       "\n",
       "    .dataframe thead th {\n",
       "        text-align: right;\n",
       "    }\n",
       "</style>\n",
       "<table border=\"1\" class=\"dataframe\">\n",
       "  <thead>\n",
       "    <tr style=\"text-align: right;\">\n",
       "      <th></th>\n",
       "      <th>Guid</th>\n",
       "      <th>KycProfileId</th>\n",
       "      <th>DateOfBirth</th>\n",
       "      <th>Country</th>\n",
       "    </tr>\n",
       "  </thead>\n",
       "  <tbody>\n",
       "    <tr>\n",
       "      <th>0</th>\n",
       "      <td>24ac491d-e85b-4fde-a068-68586d9a8164</td>\n",
       "      <td>59532fd4-21e2-49b3-88a1-45dfbc7ce03c</td>\n",
       "      <td>1961-12-22 00:00:00</td>\n",
       "      <td>US</td>\n",
       "    </tr>\n",
       "    <tr>\n",
       "      <th>1</th>\n",
       "      <td>87e11e7e-e6dd-4050-b6f2-3e40b99f9880</td>\n",
       "      <td>59532fd4-21e2-49b3-88a1-45dfbc7ce03c</td>\n",
       "      <td>1961-12-22 00:00:00</td>\n",
       "      <td>US</td>\n",
       "    </tr>\n",
       "    <tr>\n",
       "      <th>2</th>\n",
       "      <td>ab46f024-c57f-4825-9b3a-0ca79c13865c</td>\n",
       "      <td>59532fd4-21e2-49b3-88a1-45dfbc7ce03c</td>\n",
       "      <td>1961-12-22 00:00:00</td>\n",
       "      <td>US</td>\n",
       "    </tr>\n",
       "    <tr>\n",
       "      <th>3</th>\n",
       "      <td>a372669d-d129-444a-8aa9-26c67ca7db5e</td>\n",
       "      <td>59532fd4-21e2-49b3-88a1-45dfbc7ce03c</td>\n",
       "      <td>NaN</td>\n",
       "      <td>US</td>\n",
       "    </tr>\n",
       "    <tr>\n",
       "      <th>4</th>\n",
       "      <td>fd026c94-dcdb-4e05-a19d-8caba15b2eb7</td>\n",
       "      <td>59532fd4-21e2-49b3-88a1-45dfbc7ce03c</td>\n",
       "      <td>1961-12-22 00:00:00</td>\n",
       "      <td>US</td>\n",
       "    </tr>\n",
       "  </tbody>\n",
       "</table>\n",
       "</div>"
      ],
      "text/plain": [
       "                                   Guid                          KycProfileId  \\\n",
       "0  24ac491d-e85b-4fde-a068-68586d9a8164  59532fd4-21e2-49b3-88a1-45dfbc7ce03c   \n",
       "1  87e11e7e-e6dd-4050-b6f2-3e40b99f9880  59532fd4-21e2-49b3-88a1-45dfbc7ce03c   \n",
       "2  ab46f024-c57f-4825-9b3a-0ca79c13865c  59532fd4-21e2-49b3-88a1-45dfbc7ce03c   \n",
       "3  a372669d-d129-444a-8aa9-26c67ca7db5e  59532fd4-21e2-49b3-88a1-45dfbc7ce03c   \n",
       "4  fd026c94-dcdb-4e05-a19d-8caba15b2eb7  59532fd4-21e2-49b3-88a1-45dfbc7ce03c   \n",
       "\n",
       "           DateOfBirth Country  \n",
       "0  1961-12-22 00:00:00      US  \n",
       "1  1961-12-22 00:00:00      US  \n",
       "2  1961-12-22 00:00:00      US  \n",
       "3                  NaN      US  \n",
       "4  1961-12-22 00:00:00      US  "
      ]
     },
     "execution_count": 180,
     "metadata": {},
     "output_type": "execute_result"
    }
   ],
   "source": [
    "# KycInfo\n",
    "KycInfo.head()"
   ]
  },
  {
   "cell_type": "code",
   "execution_count": 181,
   "id": "2e77087d",
   "metadata": {},
   "outputs": [
    {
     "data": {
      "text/plain": [
       "Guid            object\n",
       "KycProfileId    object\n",
       "DateOfBirth     object\n",
       "Country         object\n",
       "dtype: object"
      ]
     },
     "execution_count": 181,
     "metadata": {},
     "output_type": "execute_result"
    }
   ],
   "source": [
    "# check columns data type\n",
    "KycInfo.dtypes"
   ]
  },
  {
   "cell_type": "code",
   "execution_count": 182,
   "id": "4fdd1383",
   "metadata": {},
   "outputs": [
    {
     "data": {
      "text/plain": [
       "Guid               0\n",
       "KycProfileId       0\n",
       "DateOfBirth     3140\n",
       "Country            0\n",
       "dtype: int64"
      ]
     },
     "execution_count": 182,
     "metadata": {},
     "output_type": "execute_result"
    }
   ],
   "source": [
    "# check how many null values for each column\n",
    "KycInfo.isnull().sum()"
   ]
  },
  {
   "cell_type": "code",
   "execution_count": 184,
   "id": "435c3973",
   "metadata": {},
   "outputs": [
    {
     "data": {
      "text/plain": [
       "Guid            0\n",
       "KycProfileId    0\n",
       "DateOfBirth     0\n",
       "Country         0\n",
       "dtype: int64"
      ]
     },
     "execution_count": 184,
     "metadata": {},
     "output_type": "execute_result"
    }
   ],
   "source": [
    "# \"DateOfBirth\" column is dates\n",
    "# substitute null values with '-1'\n",
    "KycInfo[\"DateOfBirth\"].fillna('-1', inplace = True)\n",
    "# check null values\n",
    "KycInfo.isnull().sum()"
   ]
  },
  {
   "cell_type": "code",
   "execution_count": 185,
   "id": "b817c1f1",
   "metadata": {},
   "outputs": [
    {
     "data": {
      "text/plain": [
       "True"
      ]
     },
     "execution_count": 185,
     "metadata": {},
     "output_type": "execute_result"
    }
   ],
   "source": [
    "# check if there are repeated values in \"Guid\" column (outpu: True == 'no duplicates')\n",
    "\n",
    "KycInfo[\"Guid\"].is_unique"
   ]
  },
  {
   "cell_type": "code",
   "execution_count": 191,
   "id": "dac4e542",
   "metadata": {},
   "outputs": [
    {
     "data": {
      "text/html": [
       "<div>\n",
       "<style scoped>\n",
       "    .dataframe tbody tr th:only-of-type {\n",
       "        vertical-align: middle;\n",
       "    }\n",
       "\n",
       "    .dataframe tbody tr th {\n",
       "        vertical-align: top;\n",
       "    }\n",
       "\n",
       "    .dataframe thead th {\n",
       "        text-align: right;\n",
       "    }\n",
       "</style>\n",
       "<table border=\"1\" class=\"dataframe\">\n",
       "  <thead>\n",
       "    <tr style=\"text-align: right;\">\n",
       "      <th></th>\n",
       "      <th>Guid</th>\n",
       "      <th>KycProfileId</th>\n",
       "      <th>DateOfBirth</th>\n",
       "      <th>Country</th>\n",
       "    </tr>\n",
       "  </thead>\n",
       "  <tbody>\n",
       "    <tr>\n",
       "      <th>3063</th>\n",
       "      <td>960e9583-8aa0-410c-bf1a-cee9f780a2c7</td>\n",
       "      <td>6a4079e8-0d68-4400-b4a1-c06719419289</td>\n",
       "      <td>-1</td>\n",
       "      <td>US</td>\n",
       "    </tr>\n",
       "    <tr>\n",
       "      <th>2352</th>\n",
       "      <td>29177f86-012e-400b-91d0-dd79cce26c37</td>\n",
       "      <td>13023ea8-d066-4110-a4c5-433749d32a3e</td>\n",
       "      <td>-1</td>\n",
       "      <td>US</td>\n",
       "    </tr>\n",
       "    <tr>\n",
       "      <th>4632</th>\n",
       "      <td>ddb46b44-2bd9-41ac-a685-b6aadceb767e</td>\n",
       "      <td>65f3fa06-112c-428a-b3b3-dde80e63e93f</td>\n",
       "      <td>-1</td>\n",
       "      <td>US</td>\n",
       "    </tr>\n",
       "    <tr>\n",
       "      <th>4631</th>\n",
       "      <td>abb84834-fef7-4d1d-bef2-2ea75f665e1d</td>\n",
       "      <td>65f3fa06-112c-428a-b3b3-dde80e63e93f</td>\n",
       "      <td>-1</td>\n",
       "      <td>US</td>\n",
       "    </tr>\n",
       "    <tr>\n",
       "      <th>12531</th>\n",
       "      <td>996f24cd-73ec-46a8-8f08-f5bc857c4e67</td>\n",
       "      <td>fa7e884e-3b8f-4c98-8d08-80d88045c0db</td>\n",
       "      <td>-1</td>\n",
       "      <td>US</td>\n",
       "    </tr>\n",
       "  </tbody>\n",
       "</table>\n",
       "</div>"
      ],
      "text/plain": [
       "                                       Guid  \\\n",
       "3063   960e9583-8aa0-410c-bf1a-cee9f780a2c7   \n",
       "2352   29177f86-012e-400b-91d0-dd79cce26c37   \n",
       "4632   ddb46b44-2bd9-41ac-a685-b6aadceb767e   \n",
       "4631   abb84834-fef7-4d1d-bef2-2ea75f665e1d   \n",
       "12531  996f24cd-73ec-46a8-8f08-f5bc857c4e67   \n",
       "\n",
       "                               KycProfileId DateOfBirth Country  \n",
       "3063   6a4079e8-0d68-4400-b4a1-c06719419289          -1      US  \n",
       "2352   13023ea8-d066-4110-a4c5-433749d32a3e          -1      US  \n",
       "4632   65f3fa06-112c-428a-b3b3-dde80e63e93f          -1      US  \n",
       "4631   65f3fa06-112c-428a-b3b3-dde80e63e93f          -1      US  \n",
       "12531  fa7e884e-3b8f-4c98-8d08-80d88045c0db          -1      US  "
      ]
     },
     "execution_count": 191,
     "metadata": {},
     "output_type": "execute_result"
    }
   ],
   "source": [
    "# sort by \"Created\"\n",
    "KycInfo = KycInfo.sort_values(by=\"DateOfBirth\")\n",
    "KycInfo.head()"
   ]
  },
  {
   "cell_type": "code",
   "execution_count": null,
   "id": "699e21bb",
   "metadata": {},
   "outputs": [],
   "source": []
  },
  {
   "cell_type": "code",
   "execution_count": 194,
   "id": "cafce5b0",
   "metadata": {},
   "outputs": [
    {
     "data": {
      "text/html": [
       "<div>\n",
       "<style scoped>\n",
       "    .dataframe tbody tr th:only-of-type {\n",
       "        vertical-align: middle;\n",
       "    }\n",
       "\n",
       "    .dataframe tbody tr th {\n",
       "        vertical-align: top;\n",
       "    }\n",
       "\n",
       "    .dataframe thead th {\n",
       "        text-align: right;\n",
       "    }\n",
       "</style>\n",
       "<table border=\"1\" class=\"dataframe\">\n",
       "  <thead>\n",
       "    <tr style=\"text-align: right;\">\n",
       "      <th></th>\n",
       "      <th>Guid</th>\n",
       "      <th>KycState</th>\n",
       "      <th>UserKycInfoId</th>\n",
       "      <th>VerifiedLightKycInfoId</th>\n",
       "      <th>VerifiedFullKycInfoId</th>\n",
       "    </tr>\n",
       "  </thead>\n",
       "  <tbody>\n",
       "    <tr>\n",
       "      <th>4765</th>\n",
       "      <td>4ad2ff8a-177d-4382-ac2c-5f039e3dbc86</td>\n",
       "      <td>29</td>\n",
       "      <td>cef01a9a-2b67-4f47-92f9-10c4659502d3</td>\n",
       "      <td>NaN</td>\n",
       "      <td>8d34479f-1600-48e1-bf00-fe93055e7348</td>\n",
       "    </tr>\n",
       "    <tr>\n",
       "      <th>4766</th>\n",
       "      <td>44a8efa5-9d9c-4eaa-a703-8dd22d75ac21</td>\n",
       "      <td>29</td>\n",
       "      <td>6eab3425-984f-47bd-ac7a-3b2b37916acd</td>\n",
       "      <td>NaN</td>\n",
       "      <td>c83216eb-f92f-4b86-8ab8-c308797ce217</td>\n",
       "    </tr>\n",
       "    <tr>\n",
       "      <th>4767</th>\n",
       "      <td>c63ad51e-a4a6-4b45-9641-2353477b7010</td>\n",
       "      <td>21</td>\n",
       "      <td>cff2cefb-0439-4060-acc1-83087ff2b89d</td>\n",
       "      <td>NaN</td>\n",
       "      <td>NaN</td>\n",
       "    </tr>\n",
       "    <tr>\n",
       "      <th>4768</th>\n",
       "      <td>64639e56-29ad-4346-90c2-9f40c61e1a86</td>\n",
       "      <td>0</td>\n",
       "      <td>05914b5a-7635-485c-9d11-f2a2a2db4cc2</td>\n",
       "      <td>NaN</td>\n",
       "      <td>NaN</td>\n",
       "    </tr>\n",
       "    <tr>\n",
       "      <th>4769</th>\n",
       "      <td>87cd157c-ac7d-454f-8ec6-d96b6b764136</td>\n",
       "      <td>29</td>\n",
       "      <td>3c54b9f8-0c95-4d6f-afbc-3be79fccb6be</td>\n",
       "      <td>edcaf966-90ec-4d02-a514-770c1dc98574</td>\n",
       "      <td>ea321312-346d-44ed-b8a1-775c2d2d606f</td>\n",
       "    </tr>\n",
       "  </tbody>\n",
       "</table>\n",
       "</div>"
      ],
      "text/plain": [
       "                                      Guid  KycState  \\\n",
       "4765  4ad2ff8a-177d-4382-ac2c-5f039e3dbc86        29   \n",
       "4766  44a8efa5-9d9c-4eaa-a703-8dd22d75ac21        29   \n",
       "4767  c63ad51e-a4a6-4b45-9641-2353477b7010        21   \n",
       "4768  64639e56-29ad-4346-90c2-9f40c61e1a86         0   \n",
       "4769  87cd157c-ac7d-454f-8ec6-d96b6b764136        29   \n",
       "\n",
       "                             UserKycInfoId  \\\n",
       "4765  cef01a9a-2b67-4f47-92f9-10c4659502d3   \n",
       "4766  6eab3425-984f-47bd-ac7a-3b2b37916acd   \n",
       "4767  cff2cefb-0439-4060-acc1-83087ff2b89d   \n",
       "4768  05914b5a-7635-485c-9d11-f2a2a2db4cc2   \n",
       "4769  3c54b9f8-0c95-4d6f-afbc-3be79fccb6be   \n",
       "\n",
       "                    VerifiedLightKycInfoId  \\\n",
       "4765                                   NaN   \n",
       "4766                                   NaN   \n",
       "4767                                   NaN   \n",
       "4768                                   NaN   \n",
       "4769  edcaf966-90ec-4d02-a514-770c1dc98574   \n",
       "\n",
       "                     VerifiedFullKycInfoId  \n",
       "4765  8d34479f-1600-48e1-bf00-fe93055e7348  \n",
       "4766  c83216eb-f92f-4b86-8ab8-c308797ce217  \n",
       "4767                                   NaN  \n",
       "4768                                   NaN  \n",
       "4769  ea321312-346d-44ed-b8a1-775c2d2d606f  "
      ]
     },
     "execution_count": 194,
     "metadata": {},
     "output_type": "execute_result"
    }
   ],
   "source": [
    "# KycProfile\n",
    "KycProfile.tail()"
   ]
  },
  {
   "cell_type": "code",
   "execution_count": 195,
   "id": "4f2f1f18",
   "metadata": {},
   "outputs": [
    {
     "data": {
      "text/plain": [
       "Guid                      object\n",
       "KycState                   int64\n",
       "UserKycInfoId             object\n",
       "VerifiedLightKycInfoId    object\n",
       "VerifiedFullKycInfoId     object\n",
       "dtype: object"
      ]
     },
     "execution_count": 195,
     "metadata": {},
     "output_type": "execute_result"
    }
   ],
   "source": [
    "# check columns data type\n",
    "KycProfile.dtypes"
   ]
  },
  {
   "cell_type": "code",
   "execution_count": 197,
   "id": "ee5bb115",
   "metadata": {},
   "outputs": [
    {
     "data": {
      "text/plain": [
       "Guid                         0\n",
       "KycState                     0\n",
       "UserKycInfoId                0\n",
       "VerifiedLightKycInfoId    4167\n",
       "VerifiedFullKycInfoId     2793\n",
       "dtype: int64"
      ]
     },
     "execution_count": 197,
     "metadata": {},
     "output_type": "execute_result"
    }
   ],
   "source": [
    "# check how many null values for each column\n",
    "KycProfile.isnull().sum()"
   ]
  },
  {
   "cell_type": "code",
   "execution_count": 200,
   "id": "4a950f3e",
   "metadata": {},
   "outputs": [
    {
     "data": {
      "text/plain": [
       "Guid               0\n",
       "Created            0\n",
       "UserState          0\n",
       "Restriction        0\n",
       "DefaultCurrency    0\n",
       "DefaultLanguage    0\n",
       "dtype: int64"
      ]
     },
     "execution_count": 200,
     "metadata": {},
     "output_type": "execute_result"
    }
   ],
   "source": [
    "# Substitue null values with '-1'\n",
    "KycProfile[\"VerifiedLightKycInfoId\"].fillna('-1', inplace = True)\n",
    "KycProfile[\"VerifiedFullKycInfoId\"].fillna('-1', inplace = True)\n",
    "\n",
    "# check null values\n",
    "AppUser.isnull().sum()"
   ]
  },
  {
   "cell_type": "code",
   "execution_count": 201,
   "id": "1fa43987",
   "metadata": {},
   "outputs": [
    {
     "data": {
      "text/plain": [
       "True"
      ]
     },
     "execution_count": 201,
     "metadata": {},
     "output_type": "execute_result"
    }
   ],
   "source": [
    "# check if there are repeated values in \"Guid\" column (outpu: True == 'no duplicates')\n",
    "\n",
    "KycProfile[\"Guid\"].is_unique"
   ]
  },
  {
   "cell_type": "code",
   "execution_count": 204,
   "id": "7f7156eb",
   "metadata": {},
   "outputs": [
    {
     "data": {
      "text/html": [
       "<div>\n",
       "<style scoped>\n",
       "    .dataframe tbody tr th:only-of-type {\n",
       "        vertical-align: middle;\n",
       "    }\n",
       "\n",
       "    .dataframe tbody tr th {\n",
       "        vertical-align: top;\n",
       "    }\n",
       "\n",
       "    .dataframe thead th {\n",
       "        text-align: right;\n",
       "    }\n",
       "</style>\n",
       "<table border=\"1\" class=\"dataframe\">\n",
       "  <thead>\n",
       "    <tr style=\"text-align: right;\">\n",
       "      <th></th>\n",
       "      <th>Guid</th>\n",
       "      <th>KycState</th>\n",
       "      <th>UserKycInfoId</th>\n",
       "      <th>VerifiedLightKycInfoId</th>\n",
       "      <th>VerifiedFullKycInfoId</th>\n",
       "    </tr>\n",
       "  </thead>\n",
       "  <tbody>\n",
       "    <tr>\n",
       "      <th>4765</th>\n",
       "      <td>4ad2ff8a-177d-4382-ac2c-5f039e3dbc86</td>\n",
       "      <td>29</td>\n",
       "      <td>cef01a9a-2b67-4f47-92f9-10c4659502d3</td>\n",
       "      <td>-1</td>\n",
       "      <td>8d34479f-1600-48e1-bf00-fe93055e7348</td>\n",
       "    </tr>\n",
       "    <tr>\n",
       "      <th>4766</th>\n",
       "      <td>44a8efa5-9d9c-4eaa-a703-8dd22d75ac21</td>\n",
       "      <td>29</td>\n",
       "      <td>6eab3425-984f-47bd-ac7a-3b2b37916acd</td>\n",
       "      <td>-1</td>\n",
       "      <td>c83216eb-f92f-4b86-8ab8-c308797ce217</td>\n",
       "    </tr>\n",
       "    <tr>\n",
       "      <th>4767</th>\n",
       "      <td>c63ad51e-a4a6-4b45-9641-2353477b7010</td>\n",
       "      <td>21</td>\n",
       "      <td>cff2cefb-0439-4060-acc1-83087ff2b89d</td>\n",
       "      <td>-1</td>\n",
       "      <td>-1</td>\n",
       "    </tr>\n",
       "    <tr>\n",
       "      <th>4768</th>\n",
       "      <td>64639e56-29ad-4346-90c2-9f40c61e1a86</td>\n",
       "      <td>0</td>\n",
       "      <td>05914b5a-7635-485c-9d11-f2a2a2db4cc2</td>\n",
       "      <td>-1</td>\n",
       "      <td>-1</td>\n",
       "    </tr>\n",
       "    <tr>\n",
       "      <th>4769</th>\n",
       "      <td>87cd157c-ac7d-454f-8ec6-d96b6b764136</td>\n",
       "      <td>29</td>\n",
       "      <td>3c54b9f8-0c95-4d6f-afbc-3be79fccb6be</td>\n",
       "      <td>edcaf966-90ec-4d02-a514-770c1dc98574</td>\n",
       "      <td>ea321312-346d-44ed-b8a1-775c2d2d606f</td>\n",
       "    </tr>\n",
       "  </tbody>\n",
       "</table>\n",
       "</div>"
      ],
      "text/plain": [
       "                                      Guid  KycState  \\\n",
       "4765  4ad2ff8a-177d-4382-ac2c-5f039e3dbc86        29   \n",
       "4766  44a8efa5-9d9c-4eaa-a703-8dd22d75ac21        29   \n",
       "4767  c63ad51e-a4a6-4b45-9641-2353477b7010        21   \n",
       "4768  64639e56-29ad-4346-90c2-9f40c61e1a86         0   \n",
       "4769  87cd157c-ac7d-454f-8ec6-d96b6b764136        29   \n",
       "\n",
       "                             UserKycInfoId  \\\n",
       "4765  cef01a9a-2b67-4f47-92f9-10c4659502d3   \n",
       "4766  6eab3425-984f-47bd-ac7a-3b2b37916acd   \n",
       "4767  cff2cefb-0439-4060-acc1-83087ff2b89d   \n",
       "4768  05914b5a-7635-485c-9d11-f2a2a2db4cc2   \n",
       "4769  3c54b9f8-0c95-4d6f-afbc-3be79fccb6be   \n",
       "\n",
       "                    VerifiedLightKycInfoId  \\\n",
       "4765                                    -1   \n",
       "4766                                    -1   \n",
       "4767                                    -1   \n",
       "4768                                    -1   \n",
       "4769  edcaf966-90ec-4d02-a514-770c1dc98574   \n",
       "\n",
       "                     VerifiedFullKycInfoId  \n",
       "4765  8d34479f-1600-48e1-bf00-fe93055e7348  \n",
       "4766  c83216eb-f92f-4b86-8ab8-c308797ce217  \n",
       "4767                                    -1  \n",
       "4768                                    -1  \n",
       "4769  ea321312-346d-44ed-b8a1-775c2d2d606f  "
      ]
     },
     "execution_count": 204,
     "metadata": {},
     "output_type": "execute_result"
    }
   ],
   "source": [
    "KycProfile.tail()"
   ]
  },
  {
   "cell_type": "code",
   "execution_count": null,
   "id": "c8d0b180",
   "metadata": {},
   "outputs": [],
   "source": []
  },
  {
   "cell_type": "code",
   "execution_count": null,
   "id": "a2aae0ab",
   "metadata": {},
   "outputs": [],
   "source": []
  },
  {
   "cell_type": "code",
   "execution_count": null,
   "id": "79267103",
   "metadata": {},
   "outputs": [],
   "source": []
  },
  {
   "cell_type": "code",
   "execution_count": null,
   "id": "e25be1e0",
   "metadata": {},
   "outputs": [],
   "source": []
  },
  {
   "cell_type": "code",
   "execution_count": null,
   "id": "4fa8c125",
   "metadata": {},
   "outputs": [],
   "source": []
  },
  {
   "cell_type": "code",
   "execution_count": null,
   "id": "43230083",
   "metadata": {},
   "outputs": [],
   "source": []
  }
 ],
 "metadata": {
  "kernelspec": {
   "display_name": "Python 3 (ipykernel)",
   "language": "python",
   "name": "python3"
  },
  "language_info": {
   "codemirror_mode": {
    "name": "ipython",
    "version": 3
   },
   "file_extension": ".py",
   "mimetype": "text/x-python",
   "name": "python",
   "nbconvert_exporter": "python",
   "pygments_lexer": "ipython3",
   "version": "3.7.10"
  }
 },
 "nbformat": 4,
 "nbformat_minor": 5
}
